{
 "cells": [
  {
   "cell_type": "code",
   "execution_count": 9,
   "metadata": {},
   "outputs": [],
   "source": [
    "import numpy as np\n",
    "import time\n",
    "import cv2"
   ]
  },
  {
   "cell_type": "code",
   "execution_count": 11,
   "metadata": {},
   "outputs": [],
   "source": [
    "\n",
    "\n",
    "\n",
    "\n",
    "\n",
    "cap = cv2.VideoCapture(0)\n",
    "time.sleep(3)\n",
    "background = 0\n",
    "\n",
    "## capturing the background\n",
    "for i in range(30):\n",
    "    ret,background = cap.read()\n",
    "    \n",
    "###capturing image    \n",
    "while(cap.isOpened()):\n",
    "    ret,img = cap.read()\n",
    "    \n",
    "    if not ret:\n",
    "        break\n",
    "        \n",
    "    hsv = cv2.cvtColor(img,cv2.COLOR_BGR2HSV) ##HSB b stands for brightness\n",
    "    \n",
    "    ## HSV values\n",
    "    lower_red = np.array([0,120,70])\n",
    "    upper_red = np.array([10,255,255])\n",
    "    mask1 = cv2.inRange(hsv,lower_red,upper_red)## separating the cloak part\n",
    "    \n",
    "    lower_red = np.array([170,120,70])\n",
    "    upper_red = np.array([180,255,255])\n",
    "    mask2 = cv2.inRange(hsv,lower_red,upper_red)\n",
    "    \n",
    "    mask1 = mask1 + mask2 ## OR 1 or x\n",
    "    \n",
    "    mask1 = cv2.morphologyEx(mask1,cv2.MORPH_OPEN, np.ones((3,3), np.uint8), iterations=2) ##noise removal\n",
    "    mask1 = cv2.morphologyEx(mask1,cv2.MORPH_DILATE, np.ones((3,3), np.uint8), iterations=1)\n",
    "    mask2 = cv2.bitwise_not(mask1) ##except the cloak\n",
    "    \n",
    "    res1 = cv2.bitwise_and(background, background, mask=mask1)## used for segmentation of the color\n",
    "    res2 = cv2.bitwise_and(img, img, mask=mask2) ## used to substitute the cloak part\n",
    "    final_output = cv2.addWeighted(res1, 1, res2, 1, 0)\n",
    "    \n",
    "    cv2.imshow('Eureka!!', final_output)\n",
    "    k = cv2.waitKey(10)\n",
    "    if k==27:\n",
    "        break\n",
    "        \n",
    "cap.release()\n",
    "cv2.destroyAllWindows()\n",
    "    \n",
    "    \n",
    "    \n",
    "    \n",
    "    \n",
    "\n"
   ]
  },
  {
   "cell_type": "code",
   "execution_count": null,
   "metadata": {},
   "outputs": [],
   "source": []
  }
 ],
 "metadata": {
  "kernelspec": {
   "display_name": "Python 3",
   "language": "python",
   "name": "python3"
  },
  "language_info": {
   "codemirror_mode": {
    "name": "ipython",
    "version": 3
   },
   "file_extension": ".py",
   "mimetype": "text/x-python",
   "name": "python",
   "nbconvert_exporter": "python",
   "pygments_lexer": "ipython3",
   "version": "3.8.3"
  }
 },
 "nbformat": 4,
 "nbformat_minor": 4
}
